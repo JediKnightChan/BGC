{
 "cells": [
  {
   "cell_type": "code",
   "execution_count": 2,
   "metadata": {
    "collapsed": true
   },
   "outputs": [
    {
     "name": "stdout",
     "output_type": "stream",
     "text": [
      "              0  1        2  3             4  5    6  7   8  9   ...  16 17  \\\n",
      "0              1  |        1  |       no rank  |  NaN  |   8  |  ...   0  |   \n",
      "1              2  |   131567  |  superkingdom  |  NaN  |   0  |  ...   0  |   \n",
      "2              6  |   335928  |         genus  |  NaN  |   0  |  ...   0  |   \n",
      "3              7  |        6  |       species  |   AC  |   0  |  ...   0  |   \n",
      "4              9  |    32199  |       species  |   BA  |   0  |  ...   0  |   \n",
      "...          ... ..      ... ..           ... ..  ... ..  .. ..  ...  .. ..   \n",
      "2383591  2897414  |  2637196  |       species  |   PS  |   0  |  ...   0  |   \n",
      "2383592  2897434  |    92977  |       species  |   PH  |   1  |  ...   5  |   \n",
      "2383593  2897685  |   184208  |         genus  |  NaN  |   4  |  ...   4  |   \n",
      "2383594  2897691  |  2897685  |       species  |   TD  |   4  |  ...   4  |   \n",
      "2383595  2897692  |  2897685  |       species  |   TP  |   4  |  ...   4  |   \n",
      "\n",
      "         18 19  20 21  22 23   24 25  \n",
      "0         0  |   0  |   0  |  NaN  |  \n",
      "1         0  |   0  |   0  |  NaN  |  \n",
      "2         1  |   0  |   0  |  NaN  |  \n",
      "3         1  |   1  |   0  |  NaN  |  \n",
      "4         1  |   1  |   0  |  NaN  |  \n",
      "...      .. ..  .. ..  .. ..  ... ..  \n",
      "2383591   1  |   0  |   0  |  NaN  |  \n",
      "2383592   1  |   0  |   0  |  NaN  |  \n",
      "2383593   1  |   0  |   0  |  NaN  |  \n",
      "2383594   1  |   0  |   0  |  NaN  |  \n",
      "2383595   1  |   0  |   0  |  NaN  |  \n",
      "\n",
      "[2383596 rows x 26 columns]\n"
     ]
    }
   ],
   "source": [
    "import pandas as pd\n",
    "\n",
    "tax_table = pd.read_csv(\"/home/jediknight/Downloads/tax/nodes.dmp\", header=None, sep=\"\\t|\\t\", engine=\"python\")\n",
    "print(tax_table)"
   ]
  },
  {
   "cell_type": "code",
   "execution_count": 40,
   "outputs": [],
   "source": [
    "from ete3 import NCBITaxa\n",
    "ncbi = NCBITaxa()\n",
    "\n",
    "\n",
    "def get_kingdom_of_species(name):\n",
    "    name = 'Aspergillus fumigatus'\n",
    "    tax_ids = ncbi.get_name_translator([name])\n",
    "    tax_id = tax_ids[name][0]\n",
    "\n",
    "    lineage = ncbi.get_lineage(tax_id)\n",
    "    names = ncbi.get_taxid_translator(lineage)\n",
    "    ranks = {ncbi.get_rank([taxid])[taxid]: names[taxid] for taxid in lineage}\n",
    "    return ranks[\"kingdom\"]"
   ],
   "metadata": {
    "collapsed": false,
    "pycharm": {
     "name": "#%%\n"
    }
   }
  }
 ],
 "metadata": {
  "kernelspec": {
   "display_name": "Python 3",
   "language": "python",
   "name": "python3"
  },
  "language_info": {
   "codemirror_mode": {
    "name": "ipython",
    "version": 2
   },
   "file_extension": ".py",
   "mimetype": "text/x-python",
   "name": "python",
   "nbconvert_exporter": "python",
   "pygments_lexer": "ipython2",
   "version": "2.7.6"
  }
 },
 "nbformat": 4,
 "nbformat_minor": 0
}